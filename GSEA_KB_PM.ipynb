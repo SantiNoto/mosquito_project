{
 "cells": [
  {
   "cell_type": "code",
   "execution_count": 1,
   "metadata": {},
   "outputs": [],
   "source": [
    "import pandas as pd\n",
    "import gseapy as gp\n",
    "import matplotlib.pyplot as plt\n",
    "from window_from_fst import * \n",
    "import os"
   ]
  },
  {
   "cell_type": "code",
   "execution_count": 2,
   "metadata": {},
   "outputs": [],
   "source": [
    "window_size = 20\n",
    "specie = 'Korle-Bu_coluzzii'\n",
    "insecticide = 'PM'\n",
    "source_file = '../../data/' + specie +'_' +insecticide + '_randomised_Fst.csv'\n",
    "target_file = '../../data/repository/' + specie +'_' +insecticide + str(window_size) + '.gmt'\n",
    "rank_file = '../../data/repository/' + specie +'_' +insecticide + '.rnk'\n",
    "output_folder = '../../data/repository/GSEA_Fst_' + specie +'_' + insecticide + '_' + str(window_size)\n",
    "if not os.path.exists(output_folder):\n",
    "    os.mkdir(output_folder)"
   ]
  },
  {
   "cell_type": "code",
   "execution_count": 9,
   "metadata": {},
   "outputs": [],
   "source": [
    "df = pd.read_csv(source_file,delimiter='\\t')\n",
    "df_true_fst = pd.DataFrame(columns=['label','phenotype.moving.Fst'])\n",
    "df_true_fst['label'] = df['window.chrom'] + '_' + df['window.pos'].map(str)\n",
    "df_true_fst['phenotype.moving.Fst'] = df['phenotype.moving.Fst']\n",
    "df_true_fst.sort_values('phenotype.moving.Fst',ascending=False,inplace=True)\n",
    "df_true_fst.to_csv(rank_file,sep='\\t',header=False,index=False)\n"
   ]
  },
  {
   "cell_type": "code",
   "execution_count": 4,
   "metadata": {},
   "outputs": [],
   "source": [
    "window_build_w_overlap(source_file,target_file,window_size)"
   ]
  },
  {
   "cell_type": "code",
   "execution_count": 5,
   "metadata": {},
   "outputs": [],
   "source": [
    "\n",
    "rnk = pd.read_csv(rank_file, header=None, sep=\"\\t\")\n",
    "pre_res = gp.prerank(rnk=rnk, gene_sets=target_file,\n",
    "                     processes=14,\n",
    "                     permutation_num=1000, # reduce number to speed up testing\n",
    "                     outdir=output_folder, format='png', seed=6)"
   ]
  },
  {
   "cell_type": "code",
   "execution_count": 2,
   "metadata": {},
   "outputs": [
    {
     "ename": "NameError",
     "evalue": "name 'specie' is not defined",
     "output_type": "error",
     "traceback": [
      "\u001b[1;31m---------------------------------------------------------------------------\u001b[0m",
      "\u001b[1;31mNameError\u001b[0m                                 Traceback (most recent call last)",
      "\u001b[1;32m<ipython-input-2-a6b2404ad548>\u001b[0m in \u001b[0;36m<module>\u001b[1;34m\u001b[0m\n\u001b[0;32m      1\u001b[0m \u001b[0mwindow_list\u001b[0m \u001b[1;33m=\u001b[0m \u001b[1;33m[\u001b[0m\u001b[1;36m3\u001b[0m\u001b[1;33m]\u001b[0m\u001b[1;33m\u001b[0m\u001b[1;33m\u001b[0m\u001b[0m\n\u001b[1;32m----> 2\u001b[1;33m \u001b[0mrank_file\u001b[0m \u001b[1;33m=\u001b[0m \u001b[1;34m'../../data/repository/'\u001b[0m \u001b[1;33m+\u001b[0m \u001b[0mspecie\u001b[0m \u001b[1;33m+\u001b[0m\u001b[1;34m'_'\u001b[0m \u001b[1;33m+\u001b[0m\u001b[0minsecticide\u001b[0m \u001b[1;33m+\u001b[0m \u001b[1;34m'.rnk'\u001b[0m\u001b[1;33m\u001b[0m\u001b[1;33m\u001b[0m\u001b[0m\n\u001b[0m\u001b[0;32m      3\u001b[0m \u001b[0mrnk\u001b[0m \u001b[1;33m=\u001b[0m \u001b[0mpd\u001b[0m\u001b[1;33m.\u001b[0m\u001b[0mread_csv\u001b[0m\u001b[1;33m(\u001b[0m\u001b[0mrank_file\u001b[0m\u001b[1;33m,\u001b[0m \u001b[0mheader\u001b[0m\u001b[1;33m=\u001b[0m\u001b[1;32mNone\u001b[0m\u001b[1;33m,\u001b[0m \u001b[0msep\u001b[0m\u001b[1;33m=\u001b[0m\u001b[1;34m\"\\t\"\u001b[0m\u001b[1;33m)\u001b[0m\u001b[1;33m\u001b[0m\u001b[1;33m\u001b[0m\u001b[0m\n\u001b[0;32m      4\u001b[0m \u001b[1;32mfor\u001b[0m \u001b[0mwindow_size\u001b[0m \u001b[1;32min\u001b[0m \u001b[0mwindow_list\u001b[0m\u001b[1;33m:\u001b[0m\u001b[1;33m\u001b[0m\u001b[1;33m\u001b[0m\u001b[0m\n\u001b[0;32m      5\u001b[0m     \u001b[0mspecie\u001b[0m \u001b[1;33m=\u001b[0m \u001b[1;34m'Korle-Bu_coluzzii'\u001b[0m\u001b[1;33m\u001b[0m\u001b[1;33m\u001b[0m\u001b[0m\n",
      "\u001b[1;31mNameError\u001b[0m: name 'specie' is not defined"
     ]
    }
   ],
   "source": [
    "window_list = [3]\n",
    "specie = 'Korle-Bu_coluzzii'\n",
    "insecticide = 'PM'\n",
    "source_file = '../../data/' + specie +'_' +insecticide + '_randomised_Fst.csv'\n",
    "rank_file = '../../data/repository/' + specie +'_' +insecticide + '.rnk'\n",
    "rnk = pd.read_csv(rank_file, header=None, sep=\"\\t\")\n",
    "for window_size in window_list:\n",
    "    target_file = '../../data/repository/' + specie +'_' +insecticide + str(window_size) + '.gmt'\n",
    "    output_folder = '../../data/repository/GSEA_Fst_' + specie +'_' + insecticide + '_' + str(window_size)\n",
    "    if not os.path.exists(output_folder):\n",
    "        os.mkdir(output_folder)\n",
    "\n",
    "    window_build_w_overlap(source_file,target_file,window_size)\n",
    "    pre_res = gp.prerank(rnk=rnk, gene_sets=target_file,\n",
    "                     processes=14,\n",
    "                     permutation_num=1000, # reduce number to speed up testing\n",
    "                     outdir=output_folder, format='png', seed=6)\n"
   ]
  }
 ],
 "metadata": {
  "interpreter": {
   "hash": "973f18ce5c1bd61adbdd31cb6e95ad743599d6c4b3990bf8f9dd00dfe6c9a68a"
  },
  "kernelspec": {
   "display_name": "Python 3.7.10 ('MLBasic')",
   "language": "python",
   "name": "python3"
  },
  "language_info": {
   "codemirror_mode": {
    "name": "ipython",
    "version": 3
   },
   "file_extension": ".py",
   "mimetype": "text/x-python",
   "name": "python",
   "nbconvert_exporter": "python",
   "pygments_lexer": "ipython3",
   "version": "3.7.10"
  },
  "orig_nbformat": 4
 },
 "nbformat": 4,
 "nbformat_minor": 2
}
