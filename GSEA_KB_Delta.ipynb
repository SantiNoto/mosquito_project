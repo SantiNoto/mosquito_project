{
 "cells": [
  {
   "cell_type": "code",
   "execution_count": 1,
   "metadata": {},
   "outputs": [],
   "source": [
    "import pandas as pd\n",
    "import gseapy as gp\n",
    "import matplotlib.pyplot as plt\n",
    "from window_from_fst import * \n",
    "import os"
   ]
  },
  {
   "cell_type": "code",
   "execution_count": 6,
   "metadata": {},
   "outputs": [],
   "source": [
    "window_size = 20\n",
    "specie = 'Korle-Bu_coluzzii'\n",
    "insecticide = 'Delta'\n",
    "source_file = '../../data/' + specie +'_' +insecticide + '_randomised_Fst.csv'\n",
    "target_file = '../../data/repository/' + specie +'_' +insecticide + str(window_size) + '.gmt'\n",
    "rank_file = '../../data/repository/' + specie +'_' +insecticide + '.rnk'\n",
    "output_folder = '../../data/repository/GSEA_Fst_' + specie +'_' + insecticide + '_' + str(window_size)\n",
    "if not os.path.exists(output_folder):\n",
    "    os.mkdir(output_folder)"
   ]
  },
  {
   "cell_type": "code",
   "execution_count": 7,
   "metadata": {},
   "outputs": [],
   "source": [
    "df = pd.read_csv(source_file,delimiter='\\t')\n",
    "df_true_fst = pd.DataFrame(columns=['label','phenotype.moving.Fst'])\n",
    "df_true_fst['label'] = df['window.chrom'] + '_' + df['window.pos'].map(str)\n",
    "df_true_fst['phenotype.moving.Fst'] = df['phenotype.moving.Fst']\n",
    "df_true_fst.sort_values('phenotype.moving.Fst',ascending=False,inplace=True)\n",
    "df_true_fst.to_csv(rank_file,sep='\\t',header=False,index=False)\n"
   ]
  },
  {
   "cell_type": "code",
   "execution_count": 8,
   "metadata": {},
   "outputs": [],
   "source": [
    "window_build_w_overlap(source_file,target_file,window_size)"
   ]
  },
  {
   "cell_type": "code",
   "execution_count": 9,
   "metadata": {},
   "outputs": [],
   "source": [
    "\n",
    "rnk = pd.read_csv(rank_file, header=None, sep=\"\\t\")\n",
    "pre_res = gp.prerank(rnk=rnk, gene_sets=target_file,\n",
    "                     processes=14,\n",
    "                     permutation_num=1000, # reduce number to speed up testing\n",
    "                     outdir=output_folder, format='png', seed=6)"
   ]
  },
  {
   "cell_type": "code",
   "execution_count": 11,
   "metadata": {},
   "outputs": [],
   "source": [
    "window_list = [30, 60, 70, 80, 90]\n",
    "rnk = pd.read_csv(rank_file, header=None, sep=\"\\t\")\n",
    "for window_size in window_list:\n",
    "    specie = 'Korle-Bu_coluzzii'\n",
    "    insecticide = 'Delta'\n",
    "    source_file = '../../data/' + specie +'_' +insecticide + '_randomised_Fst.csv'\n",
    "    target_file = '../../data/repository/' + specie +'_' +insecticide + str(window_size) + '.gmt'\n",
    "    rank_file = '../../data/repository/' + specie +'_' +insecticide + '.rnk'\n",
    "    output_folder = '../../data/repository/GSEA_Fst_' + specie +'_' + insecticide + '_' + str(window_size)\n",
    "    if not os.path.exists(output_folder):\n",
    "        os.mkdir(output_folder)\n",
    "\n",
    "    window_build_w_overlap(source_file,target_file,window_size)\n",
    "    pre_res = gp.prerank(rnk=rnk, gene_sets=target_file,\n",
    "                     processes=14,\n",
    "                     permutation_num=1000, # reduce number to speed up testing\n",
    "                     outdir=output_folder, format='png', seed=6)\n"
   ]
  }
 ],
 "metadata": {
  "interpreter": {
   "hash": "973f18ce5c1bd61adbdd31cb6e95ad743599d6c4b3990bf8f9dd00dfe6c9a68a"
  },
  "kernelspec": {
   "display_name": "Python 3.7.10 ('MLBasic')",
   "language": "python",
   "name": "python3"
  },
  "language_info": {
   "codemirror_mode": {
    "name": "ipython",
    "version": 3
   },
   "file_extension": ".py",
   "mimetype": "text/x-python",
   "name": "python",
   "nbconvert_exporter": "python",
   "pygments_lexer": "ipython3",
   "version": "3.7.10"
  },
  "orig_nbformat": 4
 },
 "nbformat": 4,
 "nbformat_minor": 2
}
